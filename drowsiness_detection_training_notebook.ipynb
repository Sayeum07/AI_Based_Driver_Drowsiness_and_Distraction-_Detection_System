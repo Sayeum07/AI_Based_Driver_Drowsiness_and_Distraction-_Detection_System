{
 "cells": [
  {
   "cell_type": "code",
   "execution_count": 1,
   "metadata": {
    "execution": {
     "iopub.execute_input": "2022-10-31T14:21:22.960284Z",
     "iopub.status.busy": "2022-10-31T14:21:22.959502Z",
     "iopub.status.idle": "2022-10-31T14:21:33.120129Z",
     "shell.execute_reply": "2022-10-31T14:21:33.121208Z",
     "shell.execute_reply.started": "2022-10-31T13:25:34.534047Z"
    },
    "papermill": {
     "duration": 10.185314,
     "end_time": "2022-10-31T14:21:33.121616",
     "exception": false,
     "start_time": "2022-10-31T14:21:22.936302",
     "status": "completed"
    },
    "tags": []
   },
   "outputs": [
    {
     "name": "stdout",
     "output_type": "stream",
     "text": [
      "WARNING:tensorflow:From c:\\Users\\vaibh\\AppData\\Local\\Programs\\Python\\Python311\\Lib\\site-packages\\keras\\src\\losses.py:2976: The name tf.losses.sparse_softmax_cross_entropy is deprecated. Please use tf.compat.v1.losses.sparse_softmax_cross_entropy instead.\n",
      "\n"
     ]
    }
   ],
   "source": [
    "import matplotlib.pyplot as plt\n",
    "import numpy as np\n",
    "import PIL\n",
    "import tensorflow as tf\n",
    "from tensorflow.keras.layers import Dense, GlobalAveragePooling2D, Dropout, Flatten, Conv2D, MaxPooling2D\n",
    "from tensorflow.keras.models import Sequential\n",
    "from tensorflow.keras.optimizers import Adam"
   ]
  },
  {
   "cell_type": "code",
   "execution_count": 2,
   "metadata": {
    "execution": {
     "iopub.execute_input": "2022-10-31T14:21:33.183497Z",
     "iopub.status.busy": "2022-10-31T14:21:33.182547Z",
     "iopub.status.idle": "2022-10-31T14:22:23.498606Z",
     "shell.execute_reply": "2022-10-31T14:22:23.497763Z",
     "shell.execute_reply.started": "2022-10-31T13:25:36.294697Z"
    },
    "papermill": {
     "duration": 50.349967,
     "end_time": "2022-10-31T14:22:23.498779",
     "exception": false,
     "start_time": "2022-10-31T14:21:33.148812",
     "status": "completed"
    },
    "scrolled": true,
    "tags": []
   },
   "outputs": [
    {
     "name": "stdout",
     "output_type": "stream",
     "text": [
      "Found 67919 images belonging to 2 classes.\n",
      "Found 16979 images belonging to 2 classes.\n"
     ]
    }
   ],
   "source": [
    "from tensorflow.keras.preprocessing.image import ImageDataGenerator\n",
    "\n",
    "# Update path to your actual location\n",
    "data_dir = \"C:\\\\Users\\\\vaibh\\\\Downloads\\\\drowsiness-detection\"\n",
    "\n",
    "# Create generators with validation split\n",
    "train_datagen = ImageDataGenerator(\n",
    "    validation_split=0.2,\n",
    "    rescale=1./255  # Add rescaling if needed\n",
    ")\n",
    "\n",
    "# Train generator\n",
    "train_generator = train_datagen.flow_from_directory(\n",
    "    data_dir,\n",
    "    target_size=(32,32),\n",
    "    batch_size=32,\n",
    "    shuffle=True,\n",
    "    class_mode='categorical',\n",
    "    subset='training'  # This will use 80% for training\n",
    ")\n",
    "\n",
    "# Validation generator (using same source directory)\n",
    "validation_generator = train_datagen.flow_from_directory(\n",
    "    data_dir,\n",
    "    target_size=(32,32),\n",
    "    batch_size=32,\n",
    "    class_mode='categorical',\n",
    "    subset='validation'  # This will use 20% for validation\n",
    ")\n"
   ]
  },
  {
   "cell_type": "code",
   "execution_count": 3,
   "metadata": {
    "execution": {
     "iopub.execute_input": "2022-10-31T14:22:23.539643Z",
     "iopub.status.busy": "2022-10-31T14:22:23.539080Z",
     "iopub.status.idle": "2022-10-31T14:22:28.836156Z",
     "shell.execute_reply": "2022-10-31T14:22:28.835538Z",
     "shell.execute_reply.started": "2022-10-31T13:33:47.487962Z"
    },
    "papermill": {
     "duration": 5.320056,
     "end_time": "2022-10-31T14:22:28.836302",
     "exception": false,
     "start_time": "2022-10-31T14:22:23.516246",
     "status": "completed"
    },
    "tags": []
   },
   "outputs": [
    {
     "name": "stdout",
     "output_type": "stream",
     "text": [
      "WARNING:tensorflow:From c:\\Users\\vaibh\\AppData\\Local\\Programs\\Python\\Python311\\Lib\\site-packages\\keras\\src\\backend.py:873: The name tf.get_default_graph is deprecated. Please use tf.compat.v1.get_default_graph instead.\n",
      "\n",
      "WARNING:tensorflow:From c:\\Users\\vaibh\\AppData\\Local\\Programs\\Python\\Python311\\Lib\\site-packages\\keras\\src\\layers\\pooling\\max_pooling2d.py:161: The name tf.nn.max_pool is deprecated. Please use tf.nn.max_pool2d instead.\n",
      "\n"
     ]
    }
   ],
   "source": [
    "cnn_model = Sequential([\n",
    "    Conv2D(32, kernel_size=(3, 3), activation='relu', input_shape=(32,32,3)),\n",
    "    MaxPooling2D(pool_size=(1,1)),\n",
    "    Conv2D(32,(3,3),activation='relu'),\n",
    "    MaxPooling2D(pool_size=(1,1)),\n",
    "#32 convolution filters used each of size 3x3\n",
    "#again\n",
    "    Conv2D(64, (3, 3), activation='relu'),\n",
    "    MaxPooling2D(pool_size=(1,1)),\n",
    "\n",
    "#64 convolution filters used each of size 3x3\n",
    "#choose the best features via pooling\n",
    "    \n",
    "#randomly turn neurons on and off to improve convergence\n",
    "    Dropout(0.25),\n",
    "#flatten since too many dimensions, we only want a classification output\n",
    "    Flatten(),\n",
    "#fully connected to get all relevant data\n",
    "    Dense(128, activation='relu'),\n",
    "#one more dropout for convergence' sake :) \n",
    "#    Dropout(0.5),\n",
    "#output a softmax to squash the matrix into output probabilities\n",
    "    Dense(2, activation='softmax')\n",
    "])"
   ]
  },
  {
   "cell_type": "code",
   "execution_count": 4,
   "metadata": {
    "execution": {
     "iopub.execute_input": "2022-11-01T15:10:16.914055Z",
     "iopub.status.busy": "2022-11-01T15:10:16.913594Z",
     "iopub.status.idle": "2022-11-01T15:10:16.942802Z",
     "shell.execute_reply": "2022-11-01T15:10:16.942007Z",
     "shell.execute_reply.started": "2022-11-01T15:10:16.914014Z"
    }
   },
   "outputs": [
    {
     "name": "stdout",
     "output_type": "stream",
     "text": [
      "WARNING:tensorflow:From c:\\Users\\vaibh\\AppData\\Local\\Programs\\Python\\Python311\\Lib\\site-packages\\keras\\src\\optimizers\\__init__.py:309: The name tf.train.Optimizer is deprecated. Please use tf.compat.v1.train.Optimizer instead.\n",
      "\n"
     ]
    }
   ],
   "source": [
    "cnn_model.compile(optimizer='adam',loss='categorical_crossentropy',metrics=[tf.keras.metrics.CategoricalAccuracy(),tf.keras.metrics.Precision(), tf.keras.metrics.Recall()])"
   ]
  },
  {
   "cell_type": "code",
   "execution_count": 5,
   "metadata": {
    "execution": {
     "iopub.execute_input": "2022-11-01T15:10:31.631652Z",
     "iopub.status.busy": "2022-11-01T15:10:31.631265Z",
     "iopub.status.idle": "2022-11-01T15:10:31.638934Z",
     "shell.execute_reply": "2022-11-01T15:10:31.637755Z",
     "shell.execute_reply.started": "2022-11-01T15:10:31.631617Z"
    },
    "scrolled": true
   },
   "outputs": [
    {
     "name": "stdout",
     "output_type": "stream",
     "text": [
      "Model: \"sequential\"\n",
      "_________________________________________________________________\n",
      " Layer (type)                Output Shape              Param #   \n",
      "=================================================================\n",
      " conv2d (Conv2D)             (None, 30, 30, 32)        896       \n",
      "                                                                 \n",
      " max_pooling2d (MaxPooling2  (None, 30, 30, 32)        0         \n",
      " D)                                                              \n",
      "                                                                 \n",
      " conv2d_1 (Conv2D)           (None, 28, 28, 32)        9248      \n",
      "                                                                 \n",
      " max_pooling2d_1 (MaxPoolin  (None, 28, 28, 32)        0         \n",
      " g2D)                                                            \n",
      "                                                                 \n",
      " conv2d_2 (Conv2D)           (None, 26, 26, 64)        18496     \n",
      "                                                                 \n",
      " max_pooling2d_2 (MaxPoolin  (None, 26, 26, 64)        0         \n",
      " g2D)                                                            \n",
      "                                                                 \n",
      " dropout (Dropout)           (None, 26, 26, 64)        0         \n",
      "                                                                 \n",
      " flatten (Flatten)           (None, 43264)             0         \n",
      "                                                                 \n",
      " dense (Dense)               (None, 128)               5537920   \n",
      "                                                                 \n",
      " dense_1 (Dense)             (None, 2)                 258       \n",
      "                                                                 \n",
      "=================================================================\n",
      "Total params: 5566818 (21.24 MB)\n",
      "Trainable params: 5566818 (21.24 MB)\n",
      "Non-trainable params: 0 (0.00 Byte)\n",
      "_________________________________________________________________\n"
     ]
    }
   ],
   "source": [
    "cnn_model.summary()"
   ]
  },
  {
   "cell_type": "code",
   "execution_count": 6,
   "metadata": {
    "execution": {
     "iopub.execute_input": "2022-11-01T15:10:39.801931Z",
     "iopub.status.busy": "2022-11-01T15:10:39.801560Z",
     "iopub.status.idle": "2022-11-01T15:28:31.407354Z",
     "shell.execute_reply": "2022-11-01T15:28:31.406293Z",
     "shell.execute_reply.started": "2022-11-01T15:10:39.801899Z"
    }
   },
   "outputs": [
    {
     "name": "stdout",
     "output_type": "stream",
     "text": [
      "Epoch 1/10\n",
      "WARNING:tensorflow:From c:\\Users\\vaibh\\AppData\\Local\\Programs\\Python\\Python311\\Lib\\site-packages\\keras\\src\\utils\\tf_utils.py:492: The name tf.ragged.RaggedTensorValue is deprecated. Please use tf.compat.v1.ragged.RaggedTensorValue instead.\n",
      "\n",
      "2123/2123 [==============================] - 856s 403ms/step - loss: 0.1600 - categorical_accuracy: 0.9392 - precision: 0.9392 - recall: 0.9392 - val_loss: 0.1927 - val_categorical_accuracy: 0.9210 - val_precision: 0.9210 - val_recall: 0.9210\n",
      "Epoch 2/10\n",
      "2123/2123 [==============================] - 122s 57ms/step - loss: 0.0576 - categorical_accuracy: 0.9799 - precision: 0.9799 - recall: 0.9799 - val_loss: 0.3201 - val_categorical_accuracy: 0.8771 - val_precision: 0.8771 - val_recall: 0.8771\n",
      "Epoch 3/10\n",
      "2123/2123 [==============================] - 121s 57ms/step - loss: 0.0407 - categorical_accuracy: 0.9855 - precision: 0.9855 - recall: 0.9855 - val_loss: 0.2973 - val_categorical_accuracy: 0.8996 - val_precision: 0.8996 - val_recall: 0.8996\n",
      "Epoch 4/10\n",
      "2123/2123 [==============================] - 130s 61ms/step - loss: 0.0327 - categorical_accuracy: 0.9881 - precision: 0.9881 - recall: 0.9881 - val_loss: 0.3010 - val_categorical_accuracy: 0.9088 - val_precision: 0.9088 - val_recall: 0.9088\n",
      "Epoch 5/10\n",
      "2123/2123 [==============================] - 128s 60ms/step - loss: 0.0269 - categorical_accuracy: 0.9909 - precision: 0.9909 - recall: 0.9909 - val_loss: 0.3952 - val_categorical_accuracy: 0.8751 - val_precision: 0.8751 - val_recall: 0.8751\n",
      "Epoch 6/10\n",
      "2123/2123 [==============================] - 129s 61ms/step - loss: 0.0214 - categorical_accuracy: 0.9925 - precision: 0.9925 - recall: 0.9925 - val_loss: 0.5745 - val_categorical_accuracy: 0.8474 - val_precision: 0.8474 - val_recall: 0.8474\n",
      "Epoch 7/10\n",
      "2123/2123 [==============================] - 125s 59ms/step - loss: 0.0192 - categorical_accuracy: 0.9933 - precision: 0.9933 - recall: 0.9933 - val_loss: 0.3991 - val_categorical_accuracy: 0.8976 - val_precision: 0.8976 - val_recall: 0.8976\n",
      "Epoch 8/10\n",
      "2123/2123 [==============================] - 123s 58ms/step - loss: 0.0164 - categorical_accuracy: 0.9943 - precision: 0.9943 - recall: 0.9943 - val_loss: 0.4632 - val_categorical_accuracy: 0.8866 - val_precision: 0.8866 - val_recall: 0.8866\n",
      "Epoch 9/10\n",
      "2123/2123 [==============================] - 123s 58ms/step - loss: 0.0140 - categorical_accuracy: 0.9953 - precision: 0.9953 - recall: 0.9953 - val_loss: 0.4489 - val_categorical_accuracy: 0.9040 - val_precision: 0.9040 - val_recall: 0.9040\n",
      "Epoch 10/10\n",
      "2123/2123 [==============================] - 123s 58ms/step - loss: 0.0127 - categorical_accuracy: 0.9955 - precision: 0.9955 - recall: 0.9955 - val_loss: 0.4161 - val_categorical_accuracy: 0.9065 - val_precision: 0.9065 - val_recall: 0.9065\n"
     ]
    }
   ],
   "source": [
    "history = cnn_model.fit(train_generator, validation_data=validation_generator, epochs=10)"
   ]
  },
  {
   "cell_type": "code",
   "execution_count": 7,
   "metadata": {
    "execution": {
     "iopub.execute_input": "2022-11-01T15:32:41.945494Z",
     "iopub.status.busy": "2022-11-01T15:32:41.945133Z",
     "iopub.status.idle": "2022-11-01T15:32:42.174247Z",
     "shell.execute_reply": "2022-11-01T15:32:42.173329Z",
     "shell.execute_reply.started": "2022-11-01T15:32:41.945460Z"
    }
   },
   "outputs": [
    {
     "data": {
      "image/png": "[encoded data removed]",
      "text/plain": [
       "<Figure size 640x480 with 1 Axes>"
      ]
     },
     "metadata": {},
     "output_type": "display_data"
    }
   ],
   "source": [
    "fig1 = plt.gcf()\n",
    "plt.plot(history.history['categorical_accuracy'])\n",
    "plt.plot(history.history['val_categorical_accuracy'])\n",
    "plt.axis(ymin=0.4,ymax=1)\n",
    "plt.grid()\n",
    "plt.title('Model Accuracy')\n",
    "plt.ylabel('Accuracy')\n",
    "plt.xlabel('Epochs')\n",
    "plt.legend(['train', 'validation'])\n",
    "plt.show()"
   ]
  },
  {
   "cell_type": "code",
   "execution_count": 15,
   "metadata": {
    "execution": {
     "iopub.status.busy": "2022-10-31T17:27:53.255065Z",
     "iopub.status.idle": "2022-10-31T17:27:53.255690Z"
    }
   },
   "outputs": [],
   "source": [
    "import cv2\n",
    "img_height, img_width = 32,32\n",
    "image=cv2.imread(\"C:\\\\Users\\\\vaibh\\\\Downloads\\\\drowsiness-detection\\closed\\\\s0037_05927_1_1_0_0_0_01.png\")\n",
    "image_resized= cv2.resize(image, (img_height,img_width))\n",
    "image=np.expand_dims(image_resized,axis=0)"
   ]
  },
  {
   "cell_type": "code",
   "execution_count": 17,
   "metadata": {
    "execution": {
     "iopub.execute_input": "2022-11-01T15:39:18.310880Z",
     "iopub.status.busy": "2022-11-01T15:39:18.310521Z",
     "iopub.status.idle": "2022-11-01T15:39:18.459758Z",
     "shell.execute_reply": "2022-11-01T15:39:18.458822Z",
     "shell.execute_reply.started": "2022-11-01T15:39:18.310846Z"
    }
   },
   "outputs": [
    {
     "name": "stdout",
     "output_type": "stream",
     "text": [
      "(32, 32, 3)\n",
      "(32, 32, 3)\n",
      "(32, 32, 3)\n",
      "(1, 32, 32, 3)\n",
      "1/1 [==============================] - 0s 114ms/step\n"
     ]
    }
   ],
   "source": [
    "import cv2\n",
    "img_height, img_width = 32,32\n",
    "image=cv2.imread(\"C:\\\\Users\\\\vaibh\\\\Downloads\\\\drowsiness-detection\\closed\\\\s0037_05927_1_1_0_0_0_01.png\")\n",
    "print(image.shape)\n",
    "r_eye = cv2.cvtColor(image,cv2.COLOR_BGR2RGB)\n",
    "print(r_eye.shape)\n",
    "r_eye = cv2.resize(r_eye, (img_height,img_width))\n",
    "print(r_eye.shape)\n",
    "#r_eye= r_eye/255\n",
    "r_eye=  r_eye.reshape((-1, 32, 32, 3))\n",
    "print(r_eye.shape)\n",
    "#r_eye = np.expand_dims(r_eye,axis=0)\n",
    "pred=cnn_model.predict(r_eye)"
   ]
  },
  {
   "cell_type": "code",
   "execution_count": 18,
   "metadata": {
    "execution": {
     "iopub.execute_input": "2022-11-01T15:39:41.152099Z",
     "iopub.status.busy": "2022-11-01T15:39:41.151656Z",
     "iopub.status.idle": "2022-11-01T15:39:41.163979Z",
     "shell.execute_reply": "2022-11-01T15:39:41.162957Z",
     "shell.execute_reply.started": "2022-11-01T15:39:41.152050Z"
    }
   },
   "outputs": [
    {
     "data": {
      "text/plain": [
       "0"
      ]
     },
     "execution_count": 18,
     "metadata": {},
     "output_type": "execute_result"
    }
   ],
   "source": [
    "np.argmax(pred)"
   ]
  },
  {
   "cell_type": "code",
   "execution_count": 20,
   "metadata": {
    "execution": {
     "iopub.execute_input": "2022-10-31T14:39:22.034271Z",
     "iopub.status.busy": "2022-10-31T14:39:22.033670Z",
     "iopub.status.idle": "2022-10-31T14:39:22.427469Z",
     "shell.execute_reply": "2022-10-31T14:39:22.426993Z"
    },
    "papermill": {
     "duration": 2.888266,
     "end_time": "2022-10-31T14:39:22.427613",
     "exception": false,
     "start_time": "2022-10-31T14:39:19.539347",
     "status": "completed"
    },
    "tags": []
   },
   "outputs": [],
   "source": [
    "import cv2\n",
    "img_height, img_width = 32,32\n",
    "image=cv2.imread(\"C:\\\\Users\\\\vaibh\\\\Downloads\\\\drowsiness-detection\\closed\\\\s0037_05927_1_1_0_0_0_01.png\")\n",
    "image_resized= cv2.resize(image, (img_height,img_width))\n",
    "image=np.expand_dims(image_resized,axis=0)"
   ]
  },
  {
   "cell_type": "code",
   "execution_count": 21,
   "metadata": {
    "execution": {
     "iopub.execute_input": "2022-10-31T14:39:27.003351Z",
     "iopub.status.busy": "2022-10-31T14:39:27.002500Z",
     "iopub.status.idle": "2022-10-31T14:39:27.176533Z",
     "shell.execute_reply": "2022-10-31T14:39:27.176002Z"
    },
    "papermill": {
     "duration": 2.435033,
     "end_time": "2022-10-31T14:39:27.176668",
     "exception": false,
     "start_time": "2022-10-31T14:39:24.741635",
     "status": "completed"
    },
    "tags": []
   },
   "outputs": [
    {
     "name": "stdout",
     "output_type": "stream",
     "text": [
      "1/1 [==============================] - 0s 19ms/step\n"
     ]
    }
   ],
   "source": [
    "pred=cnn_model.predict(image)"
   ]
  },
  {
   "cell_type": "code",
   "execution_count": 22,
   "metadata": {
    "execution": {
     "iopub.execute_input": "2022-10-31T14:39:32.042624Z",
     "iopub.status.busy": "2022-10-31T14:39:32.041872Z",
     "iopub.status.idle": "2022-10-31T14:39:32.046377Z",
     "shell.execute_reply": "2022-10-31T14:39:32.045719Z"
    },
    "papermill": {
     "duration": 2.551144,
     "end_time": "2022-10-31T14:39:32.046540",
     "exception": false,
     "start_time": "2022-10-31T14:39:29.495396",
     "status": "completed"
    },
    "tags": []
   },
   "outputs": [
    {
     "name": "stdout",
     "output_type": "stream",
     "text": [
      "The predicted class is 0\n"
     ]
    }
   ],
   "source": [
    "output_class=np.argmax(pred)\n",
    "print(\"The predicted class is\", output_class)\n",
    "# 0 is close 1 is open"
   ]
  },
  {
   "cell_type": "code",
   "execution_count": 23,
   "metadata": {
    "execution": {
     "iopub.execute_input": "2022-10-31T14:39:37.296120Z",
     "iopub.status.busy": "2022-10-31T14:39:37.295240Z",
     "iopub.status.idle": "2022-10-31T14:39:37.421919Z",
     "shell.execute_reply": "2022-10-31T14:39:37.422845Z"
    },
    "papermill": {
     "duration": 3.064911,
     "end_time": "2022-10-31T14:39:37.423029",
     "exception": false,
     "start_time": "2022-10-31T14:39:34.358118",
     "status": "completed"
    },
    "tags": []
   },
   "outputs": [
    {
     "name": "stderr",
     "output_type": "stream",
     "text": [
      "c:\\Users\\vaibh\\AppData\\Local\\Programs\\Python\\Python311\\Lib\\site-packages\\keras\\src\\engine\\training.py:3103: UserWarning: You are saving your model as an HDF5 file via `model.save()`. This file format is considered legacy. We recommend using instead the native Keras format, e.g. `model.save('my_model.keras')`.\n",
      "  saving_api.save_model(\n"
     ]
    }
   ],
   "source": [
    "cnn_model.save(\"./cnn.h5\")"
   ]
  },
  {
   "cell_type": "code",
   "execution_count": 24,
   "metadata": {
    "execution": {
     "iopub.execute_input": "2022-10-31T14:39:42.318049Z",
     "iopub.status.busy": "2022-10-31T14:39:42.317441Z",
     "iopub.status.idle": "2022-10-31T14:39:42.675745Z",
     "shell.execute_reply": "2022-10-31T14:39:42.676218Z"
    },
    "papermill": {
     "duration": 2.908263,
     "end_time": "2022-10-31T14:39:42.676383",
     "exception": false,
     "start_time": "2022-10-31T14:39:39.768120",
     "status": "completed"
    },
    "tags": []
   },
   "outputs": [
    {
     "name": "stdout",
     "output_type": "stream",
     "text": [
      "1/1 [==============================] - 0s 76ms/step\n",
      "[0]\n"
     ]
    }
   ],
   "source": [
    "from keras.models import load_model\n",
    "test_model = load_model('./cnn.h5')\n",
    "pred = np.argmax(test_model.predict(image), axis=-1)\n",
    "print(pred)"
   ]
  },
  {
   "cell_type": "code",
   "execution_count": 25,
   "metadata": {
    "execution": {
     "iopub.execute_input": "2022-10-31T14:39:47.239409Z",
     "iopub.status.busy": "2022-10-31T14:39:47.238529Z",
     "iopub.status.idle": "2022-10-31T14:39:49.667439Z",
     "shell.execute_reply": "2022-10-31T14:39:49.666602Z",
     "shell.execute_reply.started": "2022-10-31T13:45:01.699003Z"
    },
    "papermill": {
     "duration": 4.725982,
     "end_time": "2022-10-31T14:39:49.667593",
     "exception": false,
     "start_time": "2022-10-31T14:39:44.941611",
     "status": "completed"
    },
    "tags": []
   },
   "outputs": [
    {
     "name": "stdout",
     "output_type": "stream",
     "text": [
      "Downloading data from https://storage.googleapis.com/tensorflow/keras-applications/resnet/resnet50_weights_tf_dim_ordering_tf_kernels_notop.h5\n",
      "94765736/94765736 [==============================] - 8s 0us/step\n"
     ]
    }
   ],
   "source": [
    "resnet50_model = Sequential()\n",
    "\n",
    "pretrained_model= tf.keras.applications.ResNet50(include_top=False,\n",
    "                   input_shape=(32,32,3),\n",
    "                   pooling='avg',classes=2,\n",
    "                   weights= 'imagenet')\n",
    "for layer in pretrained_model.layers:\n",
    "        layer.trainable=False\n",
    "\n",
    "resnet50_model.add(pretrained_model)"
   ]
  },
  {
   "cell_type": "code",
   "execution_count": 26,
   "metadata": {
    "execution": {
     "iopub.execute_input": "2022-10-31T14:39:54.518522Z",
     "iopub.status.busy": "2022-10-31T14:39:54.517534Z",
     "iopub.status.idle": "2022-10-31T14:39:54.536344Z",
     "shell.execute_reply": "2022-10-31T14:39:54.535896Z",
     "shell.execute_reply.started": "2022-10-31T13:45:03.598988Z"
    },
    "papermill": {
     "duration": 2.524419,
     "end_time": "2022-10-31T14:39:54.536479",
     "exception": false,
     "start_time": "2022-10-31T14:39:52.012060",
     "status": "completed"
    },
    "tags": []
   },
   "outputs": [],
   "source": [
    "resnet50_model.add(Flatten())\n",
    "resnet50_model.add(Dense(128, activation='relu'))\n",
    "resnet50_model.add(Dense(2, activation='softmax'))"
   ]
  },
  {
   "cell_type": "code",
   "execution_count": 27,
   "metadata": {
    "execution": {
     "iopub.execute_input": "2022-10-31T14:39:59.244816Z",
     "iopub.status.busy": "2022-10-31T14:39:59.239708Z",
     "iopub.status.idle": "2022-10-31T14:39:59.250986Z",
     "shell.execute_reply": "2022-10-31T14:39:59.251511Z",
     "shell.execute_reply.started": "2022-10-31T13:45:06.211082Z"
    },
    "papermill": {
     "duration": 2.394806,
     "end_time": "2022-10-31T14:39:59.251718",
     "exception": false,
     "start_time": "2022-10-31T14:39:56.856912",
     "status": "completed"
    },
    "tags": []
   },
   "outputs": [
    {
     "name": "stdout",
     "output_type": "stream",
     "text": [
      "Model: \"sequential_1\"\n",
      "_________________________________________________________________\n",
      " Layer (type)                Output Shape              Param #   \n",
      "=================================================================\n",
      " resnet50 (Functional)       (None, 2048)              23587712  \n",
      "                                                                 \n",
      " flatten_1 (Flatten)         (None, 2048)              0         \n",
      "                                                                 \n",
      " dense_2 (Dense)             (None, 128)               262272    \n",
      "                                                                 \n",
      " dense_3 (Dense)             (None, 2)                 258       \n",
      "                                                                 \n",
      "=================================================================\n",
      "Total params: 23850242 (90.98 MB)\n",
      "Trainable params: 262530 (1.00 MB)\n",
      "Non-trainable params: 23587712 (89.98 MB)\n",
      "_________________________________________________________________\n"
     ]
    }
   ],
   "source": [
    "resnet50_model.summary()"
   ]
  },
  {
   "cell_type": "code",
   "execution_count": 28,
   "metadata": {
    "execution": {
     "iopub.execute_input": "2022-10-31T14:40:03.995185Z",
     "iopub.status.busy": "2022-10-31T14:40:03.994323Z",
     "iopub.status.idle": "2022-10-31T14:53:52.891591Z",
     "shell.execute_reply": "2022-10-31T14:53:52.891124Z",
     "shell.execute_reply.started": "2022-10-31T13:45:06.505400Z"
    },
    "papermill": {
     "duration": 831.302499,
     "end_time": "2022-10-31T14:53:52.891771",
     "exception": false,
     "start_time": "2022-10-31T14:40:01.589272",
     "status": "completed"
    },
    "tags": []
   },
   "outputs": [
    {
     "name": "stdout",
     "output_type": "stream",
     "text": [
      "Epoch 1/10\n",
      "2123/2123 [==============================] - 149s 69ms/step - loss: 0.4752 - categorical_accuracy: 0.7784 - precision_1: 0.7784 - recall_1: 0.7784 - val_loss: 0.4029 - val_categorical_accuracy: 0.8364 - val_precision_1: 0.8364 - val_recall_1: 0.8364\n",
      "Epoch 2/10\n",
      "2123/2123 [==============================] - 143s 68ms/step - loss: 0.4130 - categorical_accuracy: 0.8268 - precision_1: 0.8268 - recall_1: 0.8268 - val_loss: 0.5398 - val_categorical_accuracy: 0.7065 - val_precision_1: 0.7065 - val_recall_1: 0.7065\n",
      "Epoch 3/10\n",
      "2123/2123 [==============================] - 141s 67ms/step - loss: 0.3933 - categorical_accuracy: 0.8372 - precision_1: 0.8372 - recall_1: 0.8372 - val_loss: 0.4659 - val_categorical_accuracy: 0.7548 - val_precision_1: 0.7548 - val_recall_1: 0.7548\n",
      "Epoch 4/10\n",
      "2123/2123 [==============================] - 137s 65ms/step - loss: 0.3680 - categorical_accuracy: 0.8507 - precision_1: 0.8507 - recall_1: 0.8507 - val_loss: 0.3590 - val_categorical_accuracy: 0.8286 - val_precision_1: 0.8286 - val_recall_1: 0.8286\n",
      "Epoch 5/10\n",
      "2123/2123 [==============================] - 137s 65ms/step - loss: 0.3660 - categorical_accuracy: 0.8501 - precision_1: 0.8501 - recall_1: 0.8501 - val_loss: 0.3154 - val_categorical_accuracy: 0.8746 - val_precision_1: 0.8746 - val_recall_1: 0.8746\n",
      "Epoch 6/10\n",
      "2123/2123 [==============================] - 137s 65ms/step - loss: 0.3489 - categorical_accuracy: 0.8578 - precision_1: 0.8578 - recall_1: 0.8578 - val_loss: 0.3752 - val_categorical_accuracy: 0.8061 - val_precision_1: 0.8061 - val_recall_1: 0.8061\n",
      "Epoch 7/10\n",
      "2123/2123 [==============================] - 136s 64ms/step - loss: 0.3431 - categorical_accuracy: 0.8600 - precision_1: 0.8600 - recall_1: 0.8600 - val_loss: 0.3372 - val_categorical_accuracy: 0.8406 - val_precision_1: 0.8406 - val_recall_1: 0.8406\n",
      "Epoch 8/10\n",
      "2123/2123 [==============================] - 138s 65ms/step - loss: 0.3405 - categorical_accuracy: 0.8628 - precision_1: 0.8628 - recall_1: 0.8628 - val_loss: 0.3067 - val_categorical_accuracy: 0.8691 - val_precision_1: 0.8691 - val_recall_1: 0.8691\n",
      "Epoch 9/10\n",
      "2123/2123 [==============================] - 137s 65ms/step - loss: 0.3341 - categorical_accuracy: 0.8639 - precision_1: 0.8639 - recall_1: 0.8639 - val_loss: 0.3238 - val_categorical_accuracy: 0.8473 - val_precision_1: 0.8473 - val_recall_1: 0.8473\n",
      "Epoch 10/10\n",
      "2123/2123 [==============================] - 137s 64ms/step - loss: 0.3292 - categorical_accuracy: 0.8668 - precision_1: 0.8668 - recall_1: 0.8668 - val_loss: 0.2949 - val_categorical_accuracy: 0.8854 - val_precision_1: 0.8854 - val_recall_1: 0.8854\n"
     ]
    }
   ],
   "source": [
    "resnet50_model.compile(optimizer=Adam(learning_rate=0.001),loss='categorical_crossentropy',metrics=[tf.keras.metrics.CategoricalAccuracy(),tf.keras.metrics.Precision(), tf.keras.metrics.Recall()])\n",
    "history = resnet50_model.fit(train_generator, validation_data=validation_generator, epochs=10)"
   ]
  },
  {
   "cell_type": "code",
   "execution_count": 29,
   "metadata": {
    "execution": {
     "iopub.execute_input": "2022-10-31T14:54:03.533634Z",
     "iopub.status.busy": "2022-10-31T14:54:03.526838Z",
     "iopub.status.idle": "2022-10-31T14:54:03.684230Z",
     "shell.execute_reply": "2022-10-31T14:54:03.684639Z",
     "shell.execute_reply.started": "2022-10-31T13:53:46.988990Z"
    },
    "papermill": {
     "duration": 5.315275,
     "end_time": "2022-10-31T14:54:03.684851",
     "exception": false,
     "start_time": "2022-10-31T14:53:58.369576",
     "status": "completed"
    },
    "tags": []
   },
   "outputs": [
    {
     "data": {
      "image/png": "[encoded data removed]",
      "text/plain": [
       "<Figure size 640x480 with 1 Axes>"
      ]
     },
     "metadata": {},
     "output_type": "display_data"
    }
   ],
   "source": [
    "fig1 = plt.gcf()\n",
    "plt.plot(history.history['categorical_accuracy'])\n",
    "plt.plot(history.history['val_categorical_accuracy'])\n",
    "plt.axis(ymin=0.4,ymax=1)\n",
    "plt.grid()\n",
    "plt.title('Model Accuracy')\n",
    "plt.ylabel('Accuracy')\n",
    "plt.xlabel('Epochs')\n",
    "plt.legend(['train', 'validation'])\n",
    "plt.show()"
   ]
  },
  {
   "cell_type": "code",
   "execution_count": 30,
   "metadata": {
    "execution": {
     "iopub.execute_input": "2022-10-31T14:54:14.732293Z",
     "iopub.status.busy": "2022-10-31T14:54:14.731442Z",
     "iopub.status.idle": "2022-10-31T14:54:15.104423Z",
     "shell.execute_reply": "2022-10-31T14:54:15.103467Z",
     "shell.execute_reply.started": "2022-10-31T13:53:19.651749Z"
    },
    "papermill": {
     "duration": 6.104609,
     "end_time": "2022-10-31T14:54:15.104571",
     "exception": false,
     "start_time": "2022-10-31T14:54:08.999962",
     "status": "completed"
    },
    "tags": []
   },
   "outputs": [],
   "source": [
    "resnet50_model.save(\"./resnet50.h5\")"
   ]
  },
  {
   "cell_type": "code",
   "execution_count": 31,
   "metadata": {
    "execution": {
     "iopub.execute_input": "2022-10-31T14:54:25.651243Z",
     "iopub.status.busy": "2022-10-31T14:54:25.650625Z",
     "iopub.status.idle": "2022-10-31T14:54:27.417853Z",
     "shell.execute_reply": "2022-10-31T14:54:27.418912Z",
     "shell.execute_reply.started": "2022-10-31T13:55:01.050151Z"
    },
    "papermill": {
     "duration": 6.970102,
     "end_time": "2022-10-31T14:54:27.419122",
     "exception": false,
     "start_time": "2022-10-31T14:54:20.449020",
     "status": "completed"
    },
    "tags": []
   },
   "outputs": [],
   "source": [
    "resnet50_model_regularized = Sequential()\n",
    "\n",
    "pretrained_model= tf.keras.applications.ResNet50(include_top=False,\n",
    "                   input_shape=(32,32,3),\n",
    "                   pooling='avg',classes=2,\n",
    "                   weights= 'imagenet')\n",
    "for layer in pretrained_model.layers:\n",
    "        layer.trainable=False\n",
    "\n",
    "resnet50_model_regularized.add(pretrained_model)"
   ]
  },
  {
   "cell_type": "code",
   "execution_count": 32,
   "metadata": {
    "execution": {
     "iopub.execute_input": "2022-10-31T14:54:37.885779Z",
     "iopub.status.busy": "2022-10-31T14:54:37.884893Z",
     "iopub.status.idle": "2022-10-31T14:54:37.905363Z",
     "shell.execute_reply": "2022-10-31T14:54:37.904895Z",
     "shell.execute_reply.started": "2022-10-31T13:55:03.012957Z"
    },
    "papermill": {
     "duration": 5.258552,
     "end_time": "2022-10-31T14:54:37.905505",
     "exception": false,
     "start_time": "2022-10-31T14:54:32.646953",
     "status": "completed"
    },
    "tags": []
   },
   "outputs": [],
   "source": [
    "resnet50_model_regularized.add(Flatten())\n",
    "resnet50_model_regularized.add(Dense(128, activation='relu'))\n",
    "resnet50_model_regularized.add(Dropout(0.5))\n",
    "resnet50_model_regularized.add(Dense(2, activation='softmax'))"
   ]
  },
  {
   "cell_type": "code",
   "execution_count": 33,
   "metadata": {
    "execution": {
     "iopub.execute_input": "2022-10-31T14:54:49.099258Z",
     "iopub.status.busy": "2022-10-31T14:54:49.098408Z",
     "iopub.status.idle": "2022-10-31T15:08:57.522161Z",
     "shell.execute_reply": "2022-10-31T15:08:57.523097Z",
     "shell.execute_reply.started": "2022-10-31T13:55:04.725157Z"
    },
    "papermill": {
     "duration": 853.755507,
     "end_time": "2022-10-31T15:08:57.523310",
     "exception": false,
     "start_time": "2022-10-31T14:54:43.767803",
     "status": "completed"
    },
    "tags": []
   },
   "outputs": [
    {
     "name": "stdout",
     "output_type": "stream",
     "text": [
      "Epoch 1/10\n",
      "2123/2123 [==============================] - 142s 66ms/step - loss: 0.6385 - categorical_accuracy: 0.6180 - precision_2: 0.6180 - recall_2: 0.6180 - val_loss: 0.5672 - val_categorical_accuracy: 0.7916 - val_precision_2: 0.7916 - val_recall_2: 0.7916\n",
      "Epoch 2/10\n",
      "2123/2123 [==============================] - 137s 65ms/step - loss: 0.6120 - categorical_accuracy: 0.6525 - precision_2: 0.6525 - recall_2: 0.6525 - val_loss: 0.5160 - val_categorical_accuracy: 0.8568 - val_precision_2: 0.8568 - val_recall_2: 0.8568\n",
      "Epoch 3/10\n",
      "2123/2123 [==============================] - 140s 66ms/step - loss: 0.6064 - categorical_accuracy: 0.6594 - precision_2: 0.6594 - recall_2: 0.6594 - val_loss: 0.4918 - val_categorical_accuracy: 0.8675 - val_precision_2: 0.8675 - val_recall_2: 0.8675\n",
      "Epoch 4/10\n",
      "2123/2123 [==============================] - 138s 65ms/step - loss: 0.6028 - categorical_accuracy: 0.6616 - precision_2: 0.6616 - recall_2: 0.6616 - val_loss: 0.5223 - val_categorical_accuracy: 0.8491 - val_precision_2: 0.8491 - val_recall_2: 0.8491\n",
      "Epoch 5/10\n",
      "2123/2123 [==============================] - 138s 65ms/step - loss: 0.6009 - categorical_accuracy: 0.6640 - precision_2: 0.6640 - recall_2: 0.6640 - val_loss: 0.5271 - val_categorical_accuracy: 0.8334 - val_precision_2: 0.8334 - val_recall_2: 0.8334\n",
      "Epoch 6/10\n",
      "2123/2123 [==============================] - 140s 66ms/step - loss: 0.5990 - categorical_accuracy: 0.6660 - precision_2: 0.6660 - recall_2: 0.6660 - val_loss: 0.4908 - val_categorical_accuracy: 0.8767 - val_precision_2: 0.8767 - val_recall_2: 0.8767\n",
      "Epoch 7/10\n",
      "2123/2123 [==============================] - 137s 64ms/step - loss: 0.5974 - categorical_accuracy: 0.6659 - precision_2: 0.6659 - recall_2: 0.6659 - val_loss: 0.4932 - val_categorical_accuracy: 0.8789 - val_precision_2: 0.8789 - val_recall_2: 0.8789\n",
      "Epoch 8/10\n",
      "2123/2123 [==============================] - 139s 65ms/step - loss: 0.5937 - categorical_accuracy: 0.6689 - precision_2: 0.6689 - recall_2: 0.6689 - val_loss: 0.4730 - val_categorical_accuracy: 0.8179 - val_precision_2: 0.8179 - val_recall_2: 0.8179\n",
      "Epoch 9/10\n",
      "2123/2123 [==============================] - 138s 65ms/step - loss: 0.5947 - categorical_accuracy: 0.6678 - precision_2: 0.6678 - recall_2: 0.6678 - val_loss: 0.4734 - val_categorical_accuracy: 0.8765 - val_precision_2: 0.8765 - val_recall_2: 0.8765\n",
      "Epoch 10/10\n",
      "2123/2123 [==============================] - 139s 65ms/step - loss: 0.5933 - categorical_accuracy: 0.6695 - precision_2: 0.6695 - recall_2: 0.6695 - val_loss: 0.5167 - val_categorical_accuracy: 0.8333 - val_precision_2: 0.8333 - val_recall_2: 0.8333\n"
     ]
    }
   ],
   "source": [
    "resnet50_model_regularized.compile(optimizer=Adam(learning_rate=0.001),loss='categorical_crossentropy',metrics=[tf.keras.metrics.CategoricalAccuracy(),tf.keras.metrics.Precision(), tf.keras.metrics.Recall()])\n",
    "history = resnet50_model_regularized.fit(train_generator, validation_data=validation_generator, epochs=10)"
   ]
  },
  {
   "cell_type": "code",
   "execution_count": 34,
   "metadata": {
    "execution": {
     "iopub.execute_input": "2022-10-31T15:09:13.852588Z",
     "iopub.status.busy": "2022-10-31T15:09:13.851433Z",
     "iopub.status.idle": "2022-10-31T15:09:13.994102Z",
     "shell.execute_reply": "2022-10-31T15:09:13.994517Z",
     "shell.execute_reply.started": "2022-10-31T14:03:31.414990Z"
    },
    "papermill": {
     "duration": 8.350173,
     "end_time": "2022-10-31T15:09:13.994711",
     "exception": false,
     "start_time": "2022-10-31T15:09:05.644538",
     "status": "completed"
    },
    "tags": []
   },
   "outputs": [
    {
     "data": {
      "image/png": "[encoded data removed]",
      "text/plain": [
       "<Figure size 640x480 with 1 Axes>"
      ]
     },
     "metadata": {},
     "output_type": "display_data"
    }
   ],
   "source": [
    "fig1 = plt.gcf()\n",
    "plt.plot(history.history['categorical_accuracy'])\n",
    "plt.plot(history.history['val_categorical_accuracy'])\n",
    "plt.axis(ymin=0.4,ymax=1)\n",
    "plt.grid()\n",
    "plt.title('Model Accuracy')\n",
    "plt.ylabel('Accuracy')\n",
    "plt.xlabel('Epochs')\n",
    "plt.legend(['train', 'validation'])\n",
    "plt.show()"
   ]
  },
  {
   "cell_type": "code",
   "execution_count": 35,
   "metadata": {
    "execution": {
     "iopub.execute_input": "2022-10-31T15:09:30.513352Z",
     "iopub.status.busy": "2022-10-31T15:09:30.503706Z",
     "iopub.status.idle": "2022-10-31T15:09:30.844383Z",
     "shell.execute_reply": "2022-10-31T15:09:30.843894Z"
    },
    "papermill": {
     "duration": 8.432143,
     "end_time": "2022-10-31T15:09:30.844528",
     "exception": false,
     "start_time": "2022-10-31T15:09:22.412385",
     "status": "completed"
    },
    "tags": []
   },
   "outputs": [],
   "source": [
    "resnet50_model_regularized.save(\"./resnet50_model_regularized.h5\")"
   ]
  },
  {
   "cell_type": "markdown",
   "metadata": {
    "papermill": {
     "duration": 8.594097,
     "end_time": "2022-10-31T15:09:47.650468",
     "exception": false,
     "start_time": "2022-10-31T15:09:39.056371",
     "status": "completed"
    },
    "tags": []
   },
   "source": [
    "<a href=\"./resnet50_model_regularized.h5\"> Download ResNet50 Regularized File </a>"
   ]
  },
  {
   "cell_type": "code",
   "execution_count": 37,
   "metadata": {
    "execution": {
     "iopub.execute_input": "2022-11-01T16:47:32.804849Z",
     "iopub.status.busy": "2022-11-01T16:47:32.804474Z",
     "iopub.status.idle": "2022-11-01T16:47:34.527566Z",
     "shell.execute_reply": "2022-11-01T16:47:34.526801Z",
     "shell.execute_reply.started": "2022-11-01T16:47:32.804815Z"
    }
   },
   "outputs": [],
   "source": [
    "rresnet50_fine_tune1 = Sequential()\n",
    "\n",
    "pretrained_model = tf.keras.applications.ResNet50(\n",
    "    include_top=False,\n",
    "    input_shape=(32,32,3),\n",
    "    pooling='avg',\n",
    "    weights='imagenet'\n",
    ")\n",
    "for layer in pretrained_model.layers:\n",
    "    layer.trainable = True\n",
    "\n",
    "resnet50_fine_tune1.add(pretrained_model)\n"
   ]
  },
  {
   "cell_type": "code",
   "execution_count": 38,
   "metadata": {
    "execution": {
     "iopub.execute_input": "2022-11-01T16:47:37.337961Z",
     "iopub.status.busy": "2022-11-01T16:47:37.337578Z",
     "iopub.status.idle": "2022-11-01T16:47:37.365858Z",
     "shell.execute_reply": "2022-11-01T16:47:37.365064Z",
     "shell.execute_reply.started": "2022-11-01T16:47:37.337928Z"
    }
   },
   "outputs": [],
   "source": [
    "resnet50_fine_tune1.add(Flatten())\n",
    "resnet50_fine_tune1.add(Dense(128, activation='relu'))\n",
    "resnet50_fine_tune1.add(Dropout(0.5))\n",
    "resnet50_fine_tune1.add(Dense(2, activation='softmax'))"
   ]
  },
  {
   "cell_type": "code",
   "execution_count": 39,
   "metadata": {
    "execution": {
     "iopub.execute_input": "2022-11-01T16:47:40.241046Z",
     "iopub.status.busy": "2022-11-01T16:47:40.240687Z",
     "iopub.status.idle": "2022-11-01T17:02:12.572908Z",
     "shell.execute_reply": "2022-11-01T17:02:12.571894Z",
     "shell.execute_reply.started": "2022-11-01T16:47:40.241014Z"
    }
   },
   "outputs": [
    {
     "name": "stdout",
     "output_type": "stream",
     "text": [
      "Epoch 1/10\n",
      "2123/2123 [==============================] - 714s 329ms/step - loss: 0.1025 - categorical_accuracy: 0.9684 - precision_3: 0.9684 - recall_3: 0.9684 - val_loss: 0.1885 - val_categorical_accuracy: 0.9096 - val_precision_3: 0.9096 - val_recall_3: 0.9096\n",
      "Epoch 2/10\n",
      "2123/2123 [==============================] - 686s 323ms/step - loss: 0.1157 - categorical_accuracy: 0.9646 - precision_3: 0.9646 - recall_3: 0.9646 - val_loss: 0.3502 - val_categorical_accuracy: 0.8710 - val_precision_3: 0.8710 - val_recall_3: 0.8710\n",
      "Epoch 3/10\n",
      "2123/2123 [==============================] - 688s 324ms/step - loss: 0.1005 - categorical_accuracy: 0.9674 - precision_3: 0.9674 - recall_3: 0.9674 - val_loss: 0.2575 - val_categorical_accuracy: 0.9016 - val_precision_3: 0.9016 - val_recall_3: 0.9016\n",
      "Epoch 4/10\n",
      "2123/2123 [==============================] - 685s 323ms/step - loss: 0.1113 - categorical_accuracy: 0.9650 - precision_3: 0.9650 - recall_3: 0.9650 - val_loss: 0.2079 - val_categorical_accuracy: 0.9115 - val_precision_3: 0.9115 - val_recall_3: 0.9115\n",
      "Epoch 5/10\n",
      "2123/2123 [==============================] - 685s 323ms/step - loss: 0.0613 - categorical_accuracy: 0.9802 - precision_3: 0.9802 - recall_3: 0.9802 - val_loss: 0.2270 - val_categorical_accuracy: 0.8957 - val_precision_3: 0.8957 - val_recall_3: 0.8957\n",
      "Epoch 6/10\n",
      "2123/2123 [==============================] - 685s 323ms/step - loss: 0.1516 - categorical_accuracy: 0.9562 - precision_3: 0.9562 - recall_3: 0.9562 - val_loss: 0.2727 - val_categorical_accuracy: 0.8903 - val_precision_3: 0.8903 - val_recall_3: 0.8903\n",
      "Epoch 7/10\n",
      "2123/2123 [==============================] - 682s 321ms/step - loss: 0.0591 - categorical_accuracy: 0.9799 - precision_3: 0.9799 - recall_3: 0.9799 - val_loss: 0.7258 - val_categorical_accuracy: 0.7784 - val_precision_3: 0.7784 - val_recall_3: 0.7784\n",
      "Epoch 8/10\n",
      "2123/2123 [==============================] - 687s 323ms/step - loss: 0.0856 - categorical_accuracy: 0.9723 - precision_3: 0.9723 - recall_3: 0.9723 - val_loss: 0.3785 - val_categorical_accuracy: 0.8791 - val_precision_3: 0.8791 - val_recall_3: 0.8791\n",
      "Epoch 9/10\n",
      "2123/2123 [==============================] - 685s 323ms/step - loss: 0.0541 - categorical_accuracy: 0.9830 - precision_3: 0.9830 - recall_3: 0.9830 - val_loss: 0.1928 - val_categorical_accuracy: 0.9275 - val_precision_3: 0.9275 - val_recall_3: 0.9275\n",
      "Epoch 10/10\n",
      "2123/2123 [==============================] - 686s 323ms/step - loss: 0.0424 - categorical_accuracy: 0.9858 - precision_3: 0.9858 - recall_3: 0.9858 - val_loss: 0.1749 - val_categorical_accuracy: 0.9270 - val_precision_3: 0.9270 - val_recall_3: 0.9270\n"
     ]
    }
   ],
   "source": [
    "resnet50_fine_tune1.compile(optimizer=Adam(learning_rate=0.001),loss='categorical_crossentropy',metrics=[tf.keras.metrics.CategoricalAccuracy(),tf.keras.metrics.Precision(), tf.keras.metrics.Recall()])\n",
    "history = resnet50_fine_tune1.fit(train_generator, validation_data=validation_generator, epochs=10)"
   ]
  },
  {
   "cell_type": "code",
   "execution_count": 40,
   "metadata": {
    "execution": {
     "iopub.execute_input": "2022-11-01T17:02:59.137436Z",
     "iopub.status.busy": "2022-11-01T17:02:59.137099Z",
     "iopub.status.idle": "2022-11-01T17:02:59.303265Z",
     "shell.execute_reply": "2022-11-01T17:02:59.302376Z",
     "shell.execute_reply.started": "2022-11-01T17:02:59.137406Z"
    }
   },
   "outputs": [
    {
     "data": {
      "image/png": "[encoded data removed]",
      "text/plain": [
       "<Figure size 640x480 with 1 Axes>"
      ]
     },
     "metadata": {},
     "output_type": "display_data"
    }
   ],
   "source": [
    "fig1 = plt.gcf()\n",
    "plt.plot(history.history['categorical_accuracy'])\n",
    "plt.plot(history.history['val_categorical_accuracy'])\n",
    "plt.axis(ymin=0.4,ymax=1)\n",
    "plt.grid()\n",
    "plt.title('Model Accuracy')\n",
    "plt.ylabel('Accuracy')\n",
    "plt.xlabel('Epochs')\n",
    "plt.legend(['train', 'validation'])\n",
    "plt.show()"
   ]
  },
  {
   "cell_type": "code",
   "execution_count": 43,
   "metadata": {
    "execution": {
     "iopub.execute_input": "2022-11-01T16:45:28.592241Z",
     "iopub.status.busy": "2022-11-01T16:45:28.591865Z",
     "iopub.status.idle": "2022-11-01T16:45:29.501533Z",
     "shell.execute_reply": "2022-11-01T16:45:29.500594Z",
     "shell.execute_reply.started": "2022-11-01T16:45:28.592211Z"
    }
   },
   "outputs": [],
   "source": [
    "resnet50_fine_tune1.save(\"./resnet50_fine_tune.h5\")"
   ]
  },
  {
   "cell_type": "markdown",
   "metadata": {
    "papermill": {
     "duration": 8.237156,
     "end_time": "2022-10-31T15:10:03.914608",
     "exception": false,
     "start_time": "2022-10-31T15:09:55.677452",
     "status": "completed"
    },
    "tags": []
   },
   "source": [
    "<a href=\"./resnet50.h5\"> Download ResNet50 File </a>"
   ]
  },
  {
   "cell_type": "markdown",
   "metadata": {
    "papermill": {
     "duration": 11.532022,
     "end_time": "2022-10-31T15:26:35.913998",
     "exception": false,
     "start_time": "2022-10-31T15:26:24.381976",
     "status": "completed"
    },
    "tags": []
   },
   "source": [
    "<a href=\"./resnet50_fine_tune.h5\"> Download fine_tune ResNet50 File </a>"
   ]
  }
 ],
 "metadata": {
  "kernelspec": {
   "display_name": "Python 3",
   "language": "python",
   "name": "python3"
  },
  "language_info": {
   "codemirror_mode": {
    "name": "ipython",
    "version": 3
   },
   "file_extension": ".py",
   "mimetype": "text/x-python",
   "name": "python",
   "nbconvert_exporter": "python",
   "pygments_lexer": "ipython3",
   "version": "3.11.8"
  },
  "papermill": {
   "default_parameters": {},
   "duration": 3934.750294,
   "end_time": "2022-10-31T15:26:50.628009",
   "environment_variables": {},
   "exception": null,
   "input_path": "__notebook__.ipynb",
   "output_path": "__notebook__.ipynb",
   "parameters": {},
   "start_time": "2022-10-31T14:21:15.877715",
   "version": "2.2.2"
  }
 },
 "nbformat": 4,
 "nbformat_minor": 4
}
